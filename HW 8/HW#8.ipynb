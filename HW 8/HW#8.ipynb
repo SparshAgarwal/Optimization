{
 "cells": [
  {
   "cell_type": "markdown",
   "metadata": {},
   "source": [
    "CS 524\n",
    "HW8 Sparsh Agarwal 9075905142\n",
    "\n",
    "Q1."
   ]
  },
  {
   "cell_type": "code",
   "execution_count": 56,
   "metadata": {},
   "outputs": [
    {
     "name": "stdout",
     "output_type": "stream",
     "text": [
      "Min 2.5 z[1] + 5 z[2] + 2.268 z[3] + 5.67 z[4]\n",
      "Subject to\n",
      " z[1] + 5 z[2] + 10 z[3] + 25 z[4] = 99\n",
      " z[i] ≥ 0, integer, ∀ i ∈ {1,2,3,4}\n",
      "\n",
      "Optimal\n",
      "\n",
      "z = [4.0, 0.0, 7.0, 1.0]\n",
      "objective = 31.546\n"
     ]
    }
   ],
   "source": [
    "# parameters for our problem\n",
    "w = [2.500, 5.000, 2.268, 5.670]  # weights\n",
    "v = [1, 5, 10, 25]  # values\n",
    "V = 99                # value limit\n",
    "n = length(w);        # number of items\n",
    "using JuMP, Cbc\n",
    "\n",
    "m = Model(solver=CbcSolver())\n",
    "@variable(m, z[1:n]>=0, Int )\n",
    "@constraint(m, sum( v[i]*z[i] for i=1:n) == V )\n",
    "@objective(m, Min, sum( w[i]*z[i] for i=1:n) )\n",
    "\n",
    "status = solve(m)\n",
    "\n",
    "println(m)\n",
    "println(status)\n",
    "println()\n",
    "println(\"z = \", getvalue(z) )\n",
    "println(\"objective = \", getobjectivevalue(m) )"
   ]
  },
  {
   "cell_type": "markdown",
   "metadata": {
    "collapsed": true
   },
   "source": [
    "Q2."
   ]
  },
  {
   "cell_type": "code",
   "execution_count": 57,
   "metadata": {},
   "outputs": [
    {
     "name": "stdout",
     "output_type": "stream",
     "text": [
      "Max z[1] + z[2] + z[3] + z[4] + z[5] + z[6] + z[7] + z[8] + z[9] + z[10]\n",
      "Subject to\n",
      " 5 z[1] + 6 z[2] + 7 z[3] + 6 z[4] + 4 z[5] + 6 z[6] + 7 z[7] + 3 z[8] + 8 z[9] + 5 z[10] ≤ 30\n",
      " 2 z[1] + 4 z[2] + 5 z[3] + 3 z[4] + 3 z[5] + 2 z[6] + 3 z[7] + z[8] + 2 z[9] + 4 z[10] ≤ 15\n",
      " z[i] ∈ {0,1} ∀ i ∈ {1,2,…,9,10}\n",
      "\n",
      "Optimal\n",
      "\n",
      "z = [1.0, 0.0, 0.0, 1.0, 1.0, 1.0, 0.0, 1.0, 0.0, 1.0]\n",
      "objective = 6.0\n"
     ]
    }
   ],
   "source": [
    "w = [5, 6, 7, 6, 4, 6, 7, 3, 8, 5]  # weights\n",
    "v = [2, 4, 5, 3, 3, 2, 3, 1, 2, 4]  # volume\n",
    "W = 30                # weight limit\n",
    "V = 15                # volume limit\n",
    "n = length(w);        # number of items\n",
    "using JuMP, Cbc\n",
    "\n",
    "m = Model(solver=CbcSolver())\n",
    "@variable(m, z[1:n], Bin )\n",
    "@constraint(m, sum( w[i]*z[i] for i=1:n) <= W )\n",
    "@constraint(m, sum( v[i]*z[i] for i=1:n) <= V )\n",
    "@objective(m, Max, sum(z[i] for i=1:n) )\n",
    "\n",
    "status = solve(m)\n",
    "\n",
    "println(m)\n",
    "println(status)\n",
    "println()\n",
    "println(\"z = \", getvalue(z) )\n",
    "println(\"objective = \", getobjectivevalue(m) )"
   ]
  },
  {
   "cell_type": "markdown",
   "metadata": {},
   "source": [
    "Q3."
   ]
  },
  {
   "cell_type": "code",
   "execution_count": 58,
   "metadata": {},
   "outputs": [
    {
     "name": "stdout",
     "output_type": "stream",
     "text": [
      "10000.0 Plant 1 production\n",
      "8000.0 Plant 2 production\n",
      "0.0 Plant 3 production\n",
      "2000.0 Plant 4 production\n",
      "\n",
      "$2.56e7 of net profit\n"
     ]
    }
   ],
   "source": [
    "pl = [10000, 8000, 9000, 6000] #production limit\n",
    "fc = [9000000, 5000000, 3000000, 1000000] \n",
    "pc = [1000, 1700, 2300, 2900] #production cost per computer\n",
    "\n",
    "n = length(fc);\n",
    "\n",
    "using JuMP, Cbc\n",
    "\n",
    "m = Model(solver = CbcSolver())\n",
    "\n",
    "@variable(m, x[1:4] >= 0)\n",
    "@variable(m, z[1:4], Bin)\n",
    "\n",
    "@constraint(m, sum(x) <= 20000) \n",
    "@constraint(m, x .<= 10000*z)   # if x>0 then z=1\n",
    "# @constraint(m, x .>= 5*(1-z))\n",
    "@constraint(m, x .<= pl) \n",
    "\n",
    "@objective(m, Max, sum(x.*3500-((z.*fc)+(x.*pc))))\n",
    "\n",
    "solve(m)\n",
    "\n",
    "xopt = getvalue(x)\n",
    "println(xopt[1], \" Plant 1 production\")\n",
    "println(xopt[2], \" Plant 2 production\")\n",
    "println(xopt[3], \" Plant 3 production\")\n",
    "println(xopt[4], \" Plant 4 production\")\n",
    "println()\n",
    "println(\"\\$\", getobjectivevalue(m), \" of net profit\")"
   ]
  },
  {
   "cell_type": "markdown",
   "metadata": {},
   "source": [
    "Q4."
   ]
  },
  {
   "cell_type": "code",
   "execution_count": 59,
   "metadata": {},
   "outputs": [
    {
     "name": "stdout",
     "output_type": "stream",
     "text": [
      "Academic license - for non-commercial use only\n",
      "Optimize a model with 21 rows, 12 columns and 48 nonzeros\n",
      "Variable types: 6 continuous, 6 integer (6 binary)\n",
      "Coefficient statistics:\n",
      "  Matrix range     [1e+00, 1e+02]\n",
      "  Objective range  [9e-02, 2e-01]\n",
      "  Bounds range     [1e+00, 1e+00]\n",
      "  RHS range        [8e+00, 8e+01]\n",
      "Found heuristic solution: objective -0.0000000\n",
      "Presolve removed 6 rows and 0 columns\n",
      "Presolve time: 0.00s\n",
      "Presolved: 15 rows, 12 columns, 36 nonzeros\n",
      "Variable types: 6 continuous, 6 integer (6 binary)\n",
      "\n",
      "Root relaxation: objective 1.351000e+01, 5 iterations, 0.00 seconds\n",
      "\n",
      "    Nodes    |    Current Node    |     Objective Bounds      |     Work\n",
      " Expl Unexpl |  Obj  Depth IntInf | Incumbent    BestBd   Gap | It/Node Time\n",
      "\n",
      "     0     0   13.51000    0    1   -0.00000   13.51000      -     -    0s\n",
      "H    0     0                      13.5000000   13.51000  0.07%     -    0s\n",
      "     0     0     cutoff    0        13.50000   13.50000  0.00%     -    0s\n",
      "\n",
      "Explored 1 nodes (12 simplex iterations) in 0.00 seconds\n",
      "Thread count was 4 (of 4 available processors)\n",
      "\n",
      "Solution count 2: 13.5 -0 \n",
      "\n",
      "Optimal solution found (tolerance 1.00e-04)\n",
      "Best objective 1.350000000000e+01, best bound 1.350000000000e+01, gap 0.0000%\n",
      "0.0 Option 1 investment\n",
      "0.0 Option 2 investment\n",
      "35.0 Option 3 investment\n",
      "5.0 Option 4 investment\n",
      "22.5 Option 5 investment\n",
      "17.5 Option 6 investment\n",
      "\n",
      "$13.5 Investment return in million\n",
      "$80.0 Total investment in million\n"
     ]
    }
   ],
   "source": [
    "mini = [3, 2, 9, 5, 12, 4] #minimum investment\n",
    "maxi = [27, 12, 35, 15, 46, 18] #maximum investment\n",
    "er = [13, 9, 17, 10, 22, 12] #expected return\n",
    "\n",
    "n = length(mini);\n",
    "\n",
    "using JuMP, Gurobi\n",
    "\n",
    "m = Model(solver = GurobiSolver())\n",
    "\n",
    "@variable(m, x[1:n] >= 0) #investment\n",
    "# @variable(m, epsl >= 0)\n",
    "@variable(m, z[1:n], Bin)\n",
    "\n",
    "@constraint(m, sum(x) <= 80) \n",
    "@constraint(m, x .<= 100*z)   # if x>0 then z=1\n",
    "@constraint(m, x[5]<=x[2]+x[4]+x[6])\n",
    "@constraint(m, (x[3]-mini[3])<=((maxi[3]-mini[3])*z[6] - (1-z[6])))\n",
    "@constraint(m, (z.*mini).<= x ) \n",
    "@constraint(m, x .<= (z.*maxi))\n",
    "\n",
    "@objective(m, Max, sum(x*0.01.*er))\n",
    "\n",
    "solve(m)\n",
    "\n",
    "xopt = getvalue(x)\n",
    "println(xopt[1], \" Option 1 investment\")\n",
    "println(xopt[2], \" Option 2 investment\")\n",
    "println(xopt[3], \" Option 3 investment\")\n",
    "println(xopt[4], \" Option 4 investment\")\n",
    "println(xopt[5], \" Option 5 investment\")\n",
    "println(xopt[6], \" Option 6 investment\")\n",
    "println()\n",
    "println(\"\\$\", getobjectivevalue(m), \" Investment return in million\")\n",
    "println(\"\\$\", sum(xopt), \" Total investment in million\")"
   ]
  },
  {
   "cell_type": "code",
   "execution_count": null,
   "metadata": {
    "collapsed": true
   },
   "outputs": [],
   "source": []
  }
 ],
 "metadata": {
  "kernelspec": {
   "display_name": "Julia 0.6.2",
   "language": "julia",
   "name": "julia-0.6"
  },
  "language_info": {
   "file_extension": ".jl",
   "mimetype": "application/julia",
   "name": "julia",
   "version": "0.6.2"
  }
 },
 "nbformat": 4,
 "nbformat_minor": 2
}
