{
 "cells": [
  {
   "cell_type": "code",
   "execution_count": 1,
   "metadata": {
    "collapsed": true
   },
   "outputs": [],
   "source": [
    "# the types of trophies produced\n",
    "sports = [:football, :soccer]\n",
    "\n",
    "# ingredients involved\n",
    "ingredients = [:wood, :plaque, :brass_football, :brass_soccer]\n",
    "\n",
    "# profits returned (for each sport)\n",
    "profit = Dict( zip( sports, [ 12, 9 ] ) )\n",
    "\n",
    "# quantities available (for each ingredient)\n",
    "quant_avail = Dict( zip( ingredients, [ 4800, 1750, 1000, 1500 ] ) )\n",
    "\n",
    "# recipes (sport, ingredient)\n",
    "using NamedArrays\n",
    "recipe_mat = [ 4 1 1 0\n",
    "               2 1 0 1 ]\n",
    "recipe = NamedArray( recipe_mat, (sports,ingredients), (\"sport\",\"ingredient\",) )\n",
    ";"
   ]
  },
  {
   "cell_type": "code",
   "execution_count": 3,
   "metadata": {},
   "outputs": [
    {
     "name": "stdout",
     "output_type": "stream",
     "text": [
      "trophies: 1 dimensions:\n",
      "[football] = 650.0\n",
      "[  soccer] = 1100.0\n",
      "JuMP.JuMPArray{JuMP.ConstraintRef,1,Tuple{Array{Symbol,1}}}(JuMP.ConstraintRef[4 trophies[football] + 2 trophies[soccer] ≤ 4800, trophies[football] + trophies[soccer] ≤ 1750, trophies[football] ≤ 1000, trophies[soccer] ≤ 1500], (Symbol[:wood, :plaque, :brass_football, :brass_soccer],), (Dict(:wood=>1,:brass_football=>3,:plaque=>2,:brass_soccer=>4),), Dict{Symbol,Any}())\n",
      "Total profit is: $17700.0\n"
     ]
    }
   ],
   "source": [
    "using JuMP, Clp\n",
    "m = Model(solver = ClpSolver())\n",
    "\n",
    "@variable(m, trophies[sports] >= 0 )\n",
    "@expression(m, total_profit, sum( profit[s]*trophies[s] for s in sports) )\n",
    "@constraint(m, constr[i in ingredients], sum( recipe[s,i]*trophies[s] for s in sports ) <= quant_avail[i] )\n",
    "@objective(m, Max, total_profit )\n",
    "\n",
    "solve(m)\n",
    "println(getvalue(trophies))\n",
    "println(constr)\n",
    "println(\"Total profit is: \\$\", getvalue(total_profit))"
   ]
  },
  {
   "cell_type": "code",
   "execution_count": null,
   "metadata": {
    "collapsed": true
   },
   "outputs": [],
   "source": []
  }
 ],
 "metadata": {
  "kernelspec": {
   "display_name": "Julia 0.6.2",
   "language": "julia",
   "name": "julia-0.6"
  },
  "language_info": {
   "file_extension": ".jl",
   "mimetype": "application/julia",
   "name": "julia",
   "version": "0.6.2"
  }
 },
 "nbformat": 4,
 "nbformat_minor": 2
}
