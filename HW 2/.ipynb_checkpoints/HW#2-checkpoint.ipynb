{
 "cells": [
  {
   "cell_type": "markdown",
   "metadata": {},
   "source": [
    "# CS 524\n",
    "HW2 Sparsh Agarwal 9075905142\n",
    "\n",
    "Q1."
   ]
  },
  {
   "cell_type": "code",
   "execution_count": null,
   "metadata": {
    "collapsed": true
   },
   "outputs": [],
   "source": []
  },
  {
   "cell_type": "markdown",
   "metadata": {},
   "source": [
    "Q2.maximize\n",
    "z1,z2,z3,z4\n",
    "3z1 − z2\n",
    "subject to: −z1 + 6z2 − z3 + z4 ≥ −3\n",
    "7z2 + z4 = 5\n",
    "z3 + z4 ≤ 2\n",
    "−1 ≤ z2 ≤ 5, −1 ≤ z3 ≤ 5, −2 ≤ z4 ≤ 2"
   ]
  },
  {
   "cell_type": "code",
   "execution_count": 8,
   "metadata": {},
   "outputs": [
    {
     "name": "stdout",
     "output_type": "stream",
     "text": [
      "  0.001978 seconds (390 allocations: 27.938 KiB)\n",
      "Max 3 z1 - z2\n",
      "Subject to\n",
      " z1 - 6 z2 + z3 - z4 ≤ 3\n",
      " 7 z2 + z4 = 5\n",
      " z3 + z4 ≤ 2\n",
      " z1\n",
      " -1 ≤ z2 ≤ 5\n",
      " -1 ≤ z3 ≤ 5\n",
      " -2 ≤ z4 ≤ 2\n",
      "\n",
      "nothing\n",
      "\n",
      "z1 = 8.571428571428571\n",
      "z2 = 0.42857142857142855\n",
      "z3 = -1.0\n",
      "z4 = 2.0\n",
      "objective = 25.28571428571429\n"
     ]
    }
   ],
   "source": [
    "using JuMP, Clp\n",
    "\n",
    "m = Model(solver=ClpSolver())\n",
    "@variable(m, z1 )\n",
    "@variable(m, -1 <= z2 <= 5 )\n",
    "@variable(m, -1 <= z3 <= 5 )\n",
    "@variable(m, -2 <= z4 <= 2 )\n",
    "@constraint(m,z1 - 6z2 + z3 - z4 <= 3 )\n",
    "@constraint(m,7z2 + z4 == 5 )\n",
    "@constraint(m,z3 + z4 <= 2 )\n",
    "@objective(m, Max, 3z1 - z2 )\n",
    "\n",
    "status = @time for i = 1:10 solve(m) end\n",
    "\n",
    "println(m)\n",
    "println(status)\n",
    "println()\n",
    "println(\"z1 = \", getvalue(z1) )\n",
    "println(\"z2 = \", getvalue(z2) )\n",
    "println(\"z3 = \", getvalue(z3) )\n",
    "println(\"z4 = \", getvalue(z4) )\n",
    "println(\"objective = \", getobjectivevalue(m) )"
   ]
  },
  {
   "cell_type": "code",
   "execution_count": 17,
   "metadata": {},
   "outputs": [
    {
     "name": "stdout",
     "output_type": "stream",
     "text": [
      "  0.005248 seconds (390 allocations: 33.547 KiB)\n",
      "Min -3 u + 3 v + w - 1\n",
      "Subject to\n",
      " w + s1 = 6\n",
      " x + s2 = 6\n",
      " y + s3 = 4\n",
      " u - v - 6 w + x - y + s4 = -4\n",
      " 7 w + y = 14\n",
      " x + y + s5 = 5\n",
      " u ≥ 0\n",
      " v ≥ 0\n",
      " w ≥ 0\n",
      " x ≥ 0\n",
      " y ≥ 0\n",
      " s1 ≥ 0\n",
      " s2 ≥ 0\n",
      " s3 ≥ 0\n",
      " s4 ≥ 0\n",
      " s5 ≥ 0\n",
      "\n",
      "nothing\n",
      "\n",
      "z1 = 8.571428571428571\n",
      "z2 = 0.4285714285714286\n",
      "z3 = -1.0\n",
      "z4 = 2.0\n",
      "objective = 25.28571428571429\n"
     ]
    }
   ],
   "source": [
    "using JuMP, Clp\n",
    "\n",
    "m = Model(solver=ClpSolver())\n",
    "@variable(m, u >= 0 )\n",
    "@variable(m, v >= 0 )\n",
    "@variable(m, w >= 0 )\n",
    "@variable(m, x >= 0 )\n",
    "@variable(m, y >= 0 )\n",
    "@variable(m, s1 >= 0 )\n",
    "@variable(m, s2 >= 0 )\n",
    "@variable(m, s3 >= 0 )\n",
    "@variable(m, s4 >= 0 )\n",
    "@variable(m, s5 >= 0 )\n",
    "@constraint(m, w - 6 + s1 == 0)\n",
    "@constraint(m, x - 6 + s2 == 0)\n",
    "@constraint(m, y - 4 + s3 == 0)\n",
    "@constraint(m, (u-v) - 6(w-1) + (x-1) - (y-2) -3 + s4 == 0 )\n",
    "@constraint(m, 7(w-1) + (y-2) == 5 )\n",
    "@constraint(m, (x-1) + (y-2) -2 + s5 == 0 )\n",
    "@objective(m, Min, -3(u-v) + (w-1) )\n",
    "\n",
    "status = @time for i = 1:10 solve(m) end\n",
    "\n",
    "println(m)\n",
    "println(status)\n",
    "println()\n",
    "println(\"z1 = \", getvalue(u-v) )\n",
    "println(\"z2 = \", getvalue(w-1) )\n",
    "println(\"z3 = \", getvalue(x-1) )\n",
    "println(\"z4 = \", getvalue(y-2) )\n",
    "println(\"objective = \", -getobjectivevalue(m) )"
   ]
  },
  {
   "cell_type": "markdown",
   "metadata": {},
   "source": [
    "Q3."
   ]
  },
  {
   "cell_type": "code",
   "execution_count": 22,
   "metadata": {},
   "outputs": [
    {
     "name": "stdout",
     "output_type": "stream",
     "text": [
      "  0.008725 seconds (390 allocations: 35.688 KiB)\n",
      "Min 200 I1 + 250 I2 + 150 I3 + 220 C1 + 240 C2 + 200 A1 + 165 A2\n",
      "Subject to\n",
      " x + y + z + r = 100\n",
      " 2.5 I1 + 3 I2 - x = 0\n",
      " 1.3 I1 + 0.8 I2 + 4 C2 + 1.2 A1 - z = 0\n",
      " 0.3 I3 + 90 C1 + 96 C2 + 0.4 A1 + 0.6 A2 - y = 0\n",
      " 400 I1 + 300 I2 + 600 I3 + 500 C1 + 200 C2 + 300 A1 + 250 A2 = 500\n",
      " 2 ≤ x ≤ 3\n",
      " 0.4 ≤ y ≤ 0.6\n",
      " 1.2 ≤ z ≤ 1.65\n",
      " 94.75 ≤ r ≤ 96.4\n",
      " 0 ≤ I1 ≤ 1\n",
      " 0 ≤ I2 ≤ 1\n",
      " 0 ≤ I3 ≤ 1\n",
      " 0 ≤ C1 ≤ 1\n",
      " 0 ≤ C2 ≤ 1\n",
      " 0 ≤ A1 ≤ 1\n",
      " 0 ≤ A2 ≤ 1\n",
      "\n",
      "nothing\n",
      "\n",
      "Carbon = 2.265083286841476\n",
      "Copper = 0.6000000000000001\n",
      "Manganese = 1.2\n",
      "Iron alloy 1 = 0.9060333147365904\n",
      "Iron alloy 2 = 0.0\n",
      "Iron alloy 3 = 0.22746473260540379\n",
      "Copper 1 = 0.0\n",
      "Copper 2 = 0.005539172710608113\n",
      "Aluminum 1 = 0.0\n",
      "Aluminum 2 = 0.0\n",
      "objective = 216.6557742886746\n"
     ]
    }
   ],
   "source": [
    "using JuMP, Clp\n",
    "\n",
    "m = Model(solver=ClpSolver())\n",
    "@variable(m,  2    <= x <=  3    )\n",
    "@variable(m,  0.4  <= y <=  0.6  )\n",
    "@variable(m,  1.2  <= z <=  1.65 )\n",
    "@variable(m, 94.75 <= r <= 96.4  )\n",
    "@variable(m, 0 <= I1 <= 1 )\n",
    "@variable(m, 0 <= I2 <= 1 )\n",
    "@variable(m, 0 <= I3 <= 1 )\n",
    "@variable(m, 0 <= C1 <= 1 )\n",
    "@variable(m, 0 <= C2 <= 1 )\n",
    "@variable(m, 0 <= A1 <= 1 )\n",
    "@variable(m, 0 <= A2 <= 1 )\n",
    "@constraint(m, x + y + z + r == 100 )\n",
    "@constraint(m, 2.5I1 + 3I2 - x == 0 )\n",
    "@constraint(m, 1.3I1 + 0.8I2 + 4C2 + 1.2A1 - z == 0 )\n",
    "@constraint(m, 0.3I3 + 90C1 + 96C2 + 0.4A1 + 0.6A2 - y == 0 )\n",
    "@constraint(m, 400I1 + 300I2 + 600I3 + 500C1 + 200C2 + 300A1 + 250A2 == 500 )\n",
    "@objective(m, Min, 200I1 + 250I2 + 150I3 + 220C1 + 240C2 + 200A1 + 165A2 )\n",
    "\n",
    "status = @time for i = 1:10 solve(m) end\n",
    "\n",
    "println(m)\n",
    "println(status)\n",
    "println()\n",
    "println(\"Carbon = \", getvalue(x) )\n",
    "println(\"Copper = \", getvalue(y) )\n",
    "println(\"Manganese = \", getvalue(z) )\n",
    "println(\"Iron alloy 1 = \", getvalue(I1) )\n",
    "println(\"Iron alloy 2 = \", getvalue(I2) )\n",
    "println(\"Iron alloy 3 = \", getvalue(I3) )\n",
    "println(\"Copper 1 = \", getvalue(C1) )\n",
    "println(\"Copper 2 = \", getvalue(C2) )\n",
    "println(\"Aluminum 1 = \", getvalue(A1) )\n",
    "println(\"Aluminum 2 = \", getvalue(A2) )\n",
    "println(\"objective = \", getobjectivevalue(m) )"
   ]
  },
  {
   "cell_type": "markdown",
   "metadata": {},
   "source": [
    "Q4."
   ]
  },
  {
   "cell_type": "code",
   "execution_count": 41,
   "metadata": {},
   "outputs": [],
   "source": [
    "# STARTER CODE FOR STIGLER'S DIET PROBLEM\n",
    "using NamedArrays\n",
    "\n",
    "# import Stigler's data set\n",
    "raw = readcsv(\"stigler.csv\")\n",
    "(m,n) = size(raw)\n",
    "\n",
    "n_nutrients = 2:n      # columns containing nutrients\n",
    "n_foods = 3:m          # rows containing food names\n",
    "\n",
    "nutrients = raw[1,n_nutrients][:]   # the list of nutrients (convert to 1-D array)\n",
    "foods = raw[n_foods,1][:]           # the list of foods (convert to 1-D array)\n",
    "\n",
    "veg_food = foods[:]\n",
    "filter!(e->e∉[\"Pork and Beans (can)\",\"Crisco\",\"Lard\",\"Sirloin Steak\",\"Round Steak\",\"Rib Roast\",\"Chuck Roast\",\"Plate\",\"Liver (Beef)\",\"Leg of Lamb\",\"Lamb Chops (Rib)\",\"Pork Chops\",\"Pork Loin Roast\",\"Bacon\",\"Ham, smoked\",\"Salt Pork\",\"Roasting Chicken\",\"Veal Cutlets\",\"Salmon, Pink (can)\"],veg_food)\n",
    "\n",
    "# lower[i] is the minimum daily requirement of nutrient i.\n",
    "lower = Dict( zip(nutrients,raw[2,n_nutrients]) )\n",
    "\n",
    "# data[f,i] is the amount of nutrient i contained in food f.\n",
    "data = NamedArray( raw[n_foods,n_nutrients], (foods,nutrients), (\"foods\",\"nutrients\") );"
   ]
  },
  {
   "cell_type": "code",
   "execution_count": 42,
   "metadata": {},
   "outputs": [
    {
     "name": "stdout",
     "output_type": "stream",
     "text": [
      "0.10866227820675685\n"
     ]
    }
   ],
   "source": [
    "using JuMP, Clp\n",
    "\n",
    "m = Model(solver=ClpSolver())\n",
    "\n",
    "@variable(m, 0 <= food_perc[foods] <=1 ) \n",
    "\n",
    "@expression(m, total_cost, sum(food_perc[i] for i in foods))\n",
    "\n",
    "@constraint(m, constr[j in nutrients], sum(data[i,j] * food_perc[i] for i in foods ) >= lower[j] )\n",
    "\n",
    "@objective(m, Min, total_cost)\n",
    "\n",
    "solve(m)\n",
    "# println(getvalue(food_perc))\n",
    "println(getvalue(total_cost))\n",
    "\n",
    "# println(lower)\n",
    "# println(final_nutrients)\n",
    "# println(constr)\n",
    "# println(lower[\"Calories (1000)\"])\n",
    "# println(data[2,1])\n",
    "# println(data)"
   ]
  },
  {
   "cell_type": "code",
   "execution_count": 44,
   "metadata": {},
   "outputs": [
    {
     "name": "stdout",
     "output_type": "stream",
     "text": [
      "0.10903743657646292\n"
     ]
    }
   ],
   "source": [
    "using JuMP, Clp\n",
    "\n",
    "m = Model(solver=ClpSolver())\n",
    "\n",
    "@variable(m, 0 <= food_perc[veg_food] <=1 ) \n",
    "\n",
    "@expression(m, total_cost, sum(food_perc[i] for i in veg_food))\n",
    "\n",
    "@constraint(m, constr[j in nutrients], sum(data[i,j] * food_perc[i] for i in veg_food ) >= lower[j] )\n",
    "\n",
    "@objective(m, Min, total_cost)\n",
    "\n",
    "solve(m)\n",
    "# println(getvalue(food_perc))\n",
    "println(getvalue(total_cost))\n",
    "\n",
    "# println(lower)\n",
    "# println(final_nutrients)\n",
    "# println(constr)\n",
    "# println(lower[\"Calories (1000)\"])\n",
    "# println(data[2,1])\n",
    "# println(data)"
   ]
  },
  {
   "cell_type": "code",
   "execution_count": null,
   "metadata": {
    "collapsed": true
   },
   "outputs": [],
   "source": []
  }
 ],
 "metadata": {
  "kernelspec": {
   "display_name": "Julia 0.6.2",
   "language": "julia",
   "name": "julia-0.6"
  },
  "language_info": {
   "file_extension": ".jl",
   "mimetype": "application/julia",
   "name": "julia",
   "version": "0.6.2"
  }
 },
 "nbformat": 4,
 "nbformat_minor": 2
}
