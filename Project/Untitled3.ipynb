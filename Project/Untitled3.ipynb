{
 "cells": [
  {
   "cell_type": "code",
   "execution_count": 5,
   "metadata": {},
   "outputs": [
    {
     "name": "stdout",
     "output_type": "stream",
     "text": [
      "Academic license - for non-commercial use only\n"
     ]
    },
    {
     "data": {
      "text/plain": [
       ":Optimal"
      ]
     },
     "execution_count": 5,
     "metadata": {},
     "output_type": "execute_result"
    }
   ],
   "source": [
    "using Gurobi,JuMP\n",
    "\n",
    "raw = readcsv(\"voltages.csv\");\n",
    "trackx = length(raw[:,1])\n",
    "tracky = length(raw[1,:])\n",
    "\n",
    "m = Model(solver=GurobiSolver(OutputFlag=0))\n",
    "\n",
    "@variable(m, rawv[1:trackx,1:tracky])\n",
    "for i in 1:trackx\n",
    "    for j in 1:tracky\n",
    "        @constraint(m, rawv[i,j] >= raw[i,j])\n",
    "        @constraint(m, rawv[i,j] <= raw[i,j])\n",
    "    end\n",
    "end\n",
    "@expression(m, rawdatavariablemin, sum((rawv[1,i]-raw[1,i])^2 for i in 1:tracky))\n",
    "\n",
    "@constraint(m, raw[getvalue(P[1,1]),getvalue(P[2,1])] >= starttrack)\n",
    "@constraint(m, raw[getvalue(P[1,1]),getvalue(P[2,1])] <= starttrack)\n",
    "for t in 2:k-1\n",
    "    @constraint(m, raw[getvalue(P[1,t]),getvalue(P[2,t])] <= backgroundtrack-1)\n",
    "end\n",
    "@constraint(m, raw[getvalue(P[1,k]),getvalue(P[2,k])] >= finishtrack)\n",
    "@constraint(m, raw[getvalue(P[1,k]),getvalue(P[2,k])] <= finishtrack)\n",
    "\n",
    "@objective(m, Min, rawdatavariablemin)\n",
    "\n",
    "solve(m)"
   ]
  },
  {
   "cell_type": "code",
   "execution_count": null,
   "metadata": {
    "collapsed": true
   },
   "outputs": [],
   "source": []
  }
 ],
 "metadata": {
  "kernelspec": {
   "display_name": "Julia 0.6.2",
   "language": "julia",
   "name": "julia-0.6"
  },
  "language_info": {
   "file_extension": ".jl",
   "mimetype": "application/julia",
   "name": "julia",
   "version": "0.6.2"
  }
 },
 "nbformat": 4,
 "nbformat_minor": 2
}
