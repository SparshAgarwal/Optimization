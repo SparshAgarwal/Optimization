{
 "cells": [
  {
   "cell_type": "markdown",
   "metadata": {},
   "source": [
    "# TODO \n",
    "(Lets use Honda accord 2018 to specify the basic car features and Yes marina circuit to define the track features except the shape itself)\n",
    "- Come up with 4 different scenarios\n",
    "       we can have scenarios of banked track(this might be \n",
    "       difficult), if the road is wet, different car specs, making it more realistic......\n",
    "- Equation for radius using theta(turn), when does centrifugal force applies and when not!\n",
    "- Use final question in HW5 to use time thing, how to define modifiable length variables in julia because k which is number of timepoints(seconds) is what out minimizing factor will be \n",
    "- How to create section hyperlinks for table of content\n",
    "\n",
    "# Major Ones \n",
    "- Max turn using acceleration not working\n",
    "- track constraints\n",
    "\n",
    "Assumptions: FInish velocity and finish acceleration can be anything)\n",
    "\n",
    "stage 1: (NO perpensicular constraint)Bidirectional velocity and simple track to make it run on straight line \n",
    "stage 2: (NO perpensicular constraint)bidirectional velocity and acceleration with track refenreced time constraints to work in a complex track\n",
    "stage 3: stage 2 but with perpendicular constraint (Had to use Ipopt)\n",
    "stage 4: csv reference to avoid time constraint track location sensitive determination\n",
    "stage 5: reduce centripital force from 40 to 5 (Thus may increase total time but allow thtat)\n",
    "stage 6: to maximize scarcity of velocity at end points to get minimum time to complete race.\n",
    "stage 7: to use setvalues to allow it to take more time to complete the track but while minimizing centripital force.\n",
    "\n",
    "If have time do the max turning of car with other scenarios\n",
    "\n",
    "NO deep learning. GO for only modeling... look at examples\n",
    "\n",
    "Brief description of the problem. If you’ll be using real data, where will you find it and how much will you need? As far as data goes, we will start with 5 companies and add features(fake data) incrementally, based in our discussed options. Once the model starts to build up, we might switch to real data if we have time. For model we will be following the below steps: Step 1: Find the relationship between the companies valuations/profits based on various factors(which will be implemented incrementally). Features planned to use: Sectors of business (Industry relevance to weight sectors) Sugar Electronics Lumber Students supplies Automobile Country based in (economic stability, Stability of policies/regulations in the sectors) US China Russia India UK Germany Previous stock relationship Beta value relation to market Dividend relation Stock price variation Purchase pattern variation Market share Same commodity Competitive commodities Public opinion / demand(integrity/scandalous) Work-Life balance\n",
    "Step 2 : Find a visual representation of covariance between companies based in composite factors defined above.\n",
    "\n",
    "Step 3: Either give a best case portfolio based of users parameters(sectors, profit expected, risk accepted) or give the best case change required in current portfolio received from user.\n",
    "\n",
    "Type of model (LP, QP, MIP, etc.) and an approximate count of the number of variables and constraints in the model:\n",
    "Models we may end up using: LP, QP, QCQP, SOCP, semidefinite program, general convex program, MIP. The models used will change as we add factors incrementally. Number of variable might range between 5 - 10. Each factor will form a constraint."
   ]
  },
  {
   "cell_type": "markdown",
   "metadata": {},
   "source": [
    "# Race Track Optimization\n",
    "Sparsh Agarwal & Sam Lasch"
   ]
  },
  {
   "cell_type": "markdown",
   "metadata": {},
   "source": [
    "# Table of Contents\n",
    "1. introduction\n",
    "        Our project idea focused on optimizing how a Formula one car would drive around a track. Specifically, given a fixed amount of time, and a track parameter; what is the optimal path that the car could would take around a curve. This gives us information on the minimum amount of time required for a racecar to navigate a track.\n",
    "\tThis problem is based in formula one racing.  Formula one is the highest class of auto racing and has an estimated 2.9-billion-dollar investment in auto technology by the teams each year. (Wikipedia) Thus optimizing track routes can help improve driver efficiency, as well as car engineering, and improve the performance of both cars and racers.  This is one of the primary problems related to racing, as corners are the main location where speed is lost. While Formula One cars use a series of \n",
    "\tOur problem focuses on minimizing the time required for a Formula One car to drive around a curve, and reach an endpoint farther along the track. Our problem space included limits on turning ability, speed of the car, acceleration of the car, and friction applied to the car as it drives. These constraints ensure the car is forced to account in speed as it rounds a curve, and is not able to make impossibly sharp curves. We created several different variations of curves for the car to navigate. \n",
    "    \tWe applied several mathematical functions that correlated real world Physical constraints to the model. These were gravity, friction, and Centripetal force. We ignored air resistance because of the magnitude of difficulty that would apply to the model. (Are we going to be able to limit its direction?) We gathered the general information from sources on the internet, then developed the equations and constraints to apply to the model. \n",
    "\tWe will elaborate on the formation of the mathematical equations and models that we applied. Then we will address the several different scenarios we created. \n",
    "\n",
    "    \n",
    "2. Track Assembly\n",
    "    Our first task was to generate a two dimmensional array that would act as the race track. This involved a 2-d array filled with zeros. Then ones would be inserted into the array to be the track, with a starting line and finish line being 2's and 3's. We found the best way to do this was to use java code with a bitmap and write a script to convert the bitmap into a csv file. \n",
    "2. Mathematical Model\n",
    "    2.A Assumptions\n",
    "    2.B Model\n",
    "3. Solution\n",
    "4. Results and Discussion\n",
    "5. Conclusion\n",
    "6. Appendix\n",
    "\n",
    "\n",
    "\n",
    "1. Introduction\n",
    "\n",
    "\n",
    "2. Mathematical Model\n",
    "\n",
    "\n",
    "2.A. Assumptions\n",
    "\n",
    "\n",
    "2.B. Model\n",
    "Scenario 1 (Basic)\n",
    "\n",
    "    Parameter definition:\n",
    "\n",
    "    Variable definition:\n",
    "\n",
    "    Constraint:\n",
    "\n",
    "    Objective function\n",
    "    \n",
    "Scenario 2\n",
    "\n",
    "    Additional Parameter:\n",
    "\n",
    "    Additional Variable:\n",
    "\n",
    "    Additional Constraint:\n",
    "\n",
    "    Objective function\n",
    "\n",
    "Scenario 3\n",
    "    \n",
    "    Additional Parameter:\n",
    "\n",
    "    Additional Variable:\n",
    "\n",
    "    Additional Constraint:\n",
    "\n",
    "    Objective function\n",
    "    \n",
    "Scenario 4\n",
    "\n",
    "    Additional Parameter:\n",
    "\n",
    "    Additional Variable:\n",
    "\n",
    "    Additional Constraint:\n",
    "\n",
    "    Objective function\n",
    "\n",
    "3. Solution\n",
    "Scenario 1"
   ]
  },
  {
   "cell_type": "code",
   "execution_count": 4,
   "metadata": {},
   "outputs": [
    {
     "ename": "LoadError",
     "evalue": "\u001b[91mtan is not defined for type Variable. Are you trying to build a nonlinear problem? Make sure you use @NLconstraint/@NLobjective.\u001b[39m",
     "output_type": "error",
     "traceback": [
      "\u001b[91mtan is not defined for type Variable. Are you trying to build a nonlinear problem? Make sure you use @NLconstraint/@NLobjective.\u001b[39m",
      "",
      "Stacktrace:",
      " [1] \u001b[1mtan\u001b[22m\u001b[22m\u001b[1m(\u001b[22m\u001b[22m::JuMP.Variable\u001b[1m)\u001b[22m\u001b[22m at \u001b[1mC:\\\\\\\\\\\\\\\\\\\\\\\\\\\\\\\\\\\\\\\\\\\\\\\\\\\\\\\\\\\\\\\\\\\\\\\\\\\\\\\\\\\\\\\\\\\\\\\\\\\\\\\\\\\\\\\\\\Users\\Sam\\AppData\\Local\\JuliaPro-0.6.2.1\\pkgs-0.6.2.1\\v0.6\\JuMP\\src\\operators.jl:630\u001b[22m\u001b[22m",
      " [2] \u001b[1mbroadcast_t\u001b[22m\u001b[22m\u001b[1m(\u001b[22m\u001b[22m::Function, ::Type{Any}, ::Tuple{Base.OneTo{Int64}}, ::CartesianRange{CartesianIndex{1}}, ::Array{JuMP.Variable,1}\u001b[1m)\u001b[22m\u001b[22m at \u001b[1m.\\broadcast.jl:258\u001b[22m\u001b[22m",
      " [3] \u001b[1mbroadcast_c\u001b[22m\u001b[22m at \u001b[1m.\\broadcast.jl:321\u001b[22m\u001b[22m [inlined]",
      " [4] \u001b[1mbroadcast\u001b[22m\u001b[22m\u001b[1m(\u001b[22m\u001b[22m::Function, ::Array{JuMP.Variable,1}\u001b[1m)\u001b[22m\u001b[22m at \u001b[1m.\\broadcast.jl:455\u001b[22m\u001b[22m",
      " [5] \u001b[1minclude_string\u001b[22m\u001b[22m\u001b[1m(\u001b[22m\u001b[22m::String, ::String\u001b[1m)\u001b[22m\u001b[22m at \u001b[1m.\\loading.jl:522\u001b[22m\u001b[22m"
     ]
    }
   ],
   "source": []
  },
  {
   "cell_type": "code",
   "execution_count": 69,
   "metadata": {},
   "outputs": [
    {
     "ename": "LoadError",
     "evalue": "\u001b[91mSolver does not support quadratic constraints\u001b[39m",
     "output_type": "error",
     "traceback": [
      "\u001b[91mSolver does not support quadratic constraints\u001b[39m",
      "",
      "Stacktrace:",
      " [1] \u001b[1maddQuadratics\u001b[22m\u001b[22m\u001b[1m(\u001b[22m\u001b[22m::JuMP.Model\u001b[1m)\u001b[22m\u001b[22m at \u001b[1mC:\\\\\\\\\\\\\\\\\\\\\\\\\\\\\\\\\\\\\\\\\\\\\\\\\\\\\\\\\\\\\\\\\\\\\\\\\\\\\\\\\\\\\\\\\\\\\\\\\\\\\\\\\\\\\\\\\\Users\\Sam\\AppData\\Local\\JuliaPro-0.6.2.1\\pkgs-0.6.2.1\\v0.6\\JuMP\\src\\solvers.jl:468\u001b[22m\u001b[22m",
      " [2] \u001b[1m#build#119\u001b[22m\u001b[22m\u001b[1m(\u001b[22m\u001b[22m::Bool, ::Bool, ::JuMP.ProblemTraits, ::Function, ::JuMP.Model\u001b[1m)\u001b[22m\u001b[22m at \u001b[1mC:\\\\\\\\\\\\\\\\\\\\\\\\\\\\\\\\\\\\\\\\\\\\\\\\\\\\\\\\\\\\\\\\\\\\\\\\\\\\\\\\\\\\\\\\\\\\\\\\\\\\\\\\\\\\\\\\\\Users\\Sam\\AppData\\Local\\JuliaPro-0.6.2.1\\pkgs-0.6.2.1\\v0.6\\JuMP\\src\\solvers.jl:373\u001b[22m\u001b[22m",
      " [3] \u001b[1m(::JuMP.#kw##build)\u001b[22m\u001b[22m\u001b[1m(\u001b[22m\u001b[22m::Array{Any,1}, ::JuMP.#build, ::JuMP.Model\u001b[1m)\u001b[22m\u001b[22m at \u001b[1m.\\<missing>:0\u001b[22m\u001b[22m",
      " [4] \u001b[1m#solve#116\u001b[22m\u001b[22m\u001b[1m(\u001b[22m\u001b[22m::Bool, ::Bool, ::Bool, ::Array{Any,1}, ::Function, ::JuMP.Model\u001b[1m)\u001b[22m\u001b[22m at \u001b[1mC:\\\\\\\\\\\\\\\\\\\\\\\\\\\\\\\\\\\\\\\\\\\\\\\\\\\\\\\\\\\\\\\\\\\\\\\\\\\\\\\\\\\\\\\\\\\\\\\\\\\\\\\\\\\\\\\\\\Users\\Sam\\AppData\\Local\\JuliaPro-0.6.2.1\\pkgs-0.6.2.1\\v0.6\\JuMP\\src\\solvers.jl:168\u001b[22m\u001b[22m",
      " [5] \u001b[1msolve\u001b[22m\u001b[22m\u001b[1m(\u001b[22m\u001b[22m::JuMP.Model\u001b[1m)\u001b[22m\u001b[22m at \u001b[1mC:\\\\\\\\\\\\\\\\\\\\\\\\\\\\\\\\\\\\\\\\\\\\\\\\\\\\\\\\\\\\\\\\\\\\\\\\\\\\\\\\\\\\\\\\\\\\\\\\\\\\\\\\\\\\\\\\\\Users\\Sam\\AppData\\Local\\JuliaPro-0.6.2.1\\pkgs-0.6.2.1\\v0.6\\JuMP\\src\\solvers.jl:150\u001b[22m\u001b[22m",
      " [6] \u001b[1minclude_string\u001b[22m\u001b[22m\u001b[1m(\u001b[22m\u001b[22m::String, ::String\u001b[1m)\u001b[22m\u001b[22m at \u001b[1m.\\loading.jl:522\u001b[22m\u001b[22m"
     ]
    }
   ],
   "source": []
  },
  {
   "cell_type": "code",
   "execution_count": null,
   "metadata": {
    "collapsed": true
   },
   "outputs": [],
   "source": []
  }
 ],
 "metadata": {
  "kernelspec": {
   "display_name": "Julia 0.6.2",
   "language": "julia",
   "name": "julia-0.6"
  },
  "language_info": {
   "file_extension": ".jl",
   "mimetype": "application/julia",
   "name": "julia",
   "version": "0.6.2"
  }
 },
 "nbformat": 4,
 "nbformat_minor": 2
}
