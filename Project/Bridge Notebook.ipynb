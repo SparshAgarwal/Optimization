{
 "cells": [
  {
   "cell_type": "code",
   "execution_count": 7,
   "metadata": {
    "collapsed": true
   },
   "outputs": [],
   "source": [
    "### MAKING A BRIDGE\n",
    "\n",
    "Nx = 15\n",
    "Ny = 7\n",
    "\n",
    "# FIXED NODES\n",
    "fixed = [ sub2ind((Nx,Ny),1,1), sub2ind((Nx,Ny),Nx,1)]\n",
    "\n",
    "# uniform load\n",
    "loaded = [ (sub2ind((Nx,Ny),j,1), 0,1) for j = 1:Nx ]\n",
    "\n",
    "# point load\n",
    "# loaded = [ (sub2ind((Nx,Ny),Int((Nx+1)/2),1), 0,Nx) ];"
   ]
  },
  {
   "cell_type": "code",
   "execution_count": 3,
   "metadata": {},
   "outputs": [
    {
     "data": {
      "text/plain": [
       "30-element Array{Tuple{Int64,Int64,Int64},1}:\n",
       " (4, 1, 0)  \n",
       " (12, 1, 0) \n",
       " (20, 1, 0) \n",
       " (28, 1, 0) \n",
       " (36, 1, 0) \n",
       " (44, 1, 0) \n",
       " (52, 1, 0) \n",
       " (60, 1, 0) \n",
       " (68, 1, 0) \n",
       " (76, 1, 0) \n",
       " (84, 1, 0) \n",
       " (92, 1, 0) \n",
       " (100, 1, 0)\n",
       " ⋮          \n",
       " (29, 1, 0) \n",
       " (37, 1, 0) \n",
       " (45, 1, 0) \n",
       " (53, 1, 0) \n",
       " (61, 1, 0) \n",
       " (69, 1, 0) \n",
       " (77, 1, 0) \n",
       " (85, 1, 0) \n",
       " (93, 1, 0) \n",
       " (101, 1, 0)\n",
       " (109, 1, 0)\n",
       " (117, 1, 0)"
      ]
     },
     "execution_count": 3,
     "metadata": {},
     "output_type": "execute_result"
    }
   ],
   "source": [
    "### MAKING A TOWER\n",
    "\n",
    "Nx = 8\n",
    "Ny = 15\n",
    "\n",
    "# FIXED NODES\n",
    "fixed = [ sub2ind((Nx,Ny),i,1) for i = 3:6 ]\n",
    "\n",
    "# crunching\n",
    "# loaded = [ (sub2ind((Nx,Ny),i,Ny), 0,1) for i = 4:5 ]\n",
    "\n",
    "# # uniform lateral load\n",
    "loaded1 = [ (sub2ind((Nx,Ny),4,j), 1,0) for j = 1:Ny ];\n",
    "loaded2 = [ (sub2ind((Nx,Ny),5,j), 1,0) for j = 1:Ny ];\n",
    "loaded = [loaded1; loaded2]"
   ]
  },
  {
   "cell_type": "code",
   "execution_count": 8,
   "metadata": {},
   "outputs": [
    {
     "data": {
      "image/png": "[encoded data removed]",
      "text/plain": [
       "PyPlot.Figure(PyObject <matplotlib.figure.Figure object at 0x12294f2d0>)"
      ]
     },
     "metadata": {},
     "output_type": "display_data"
    },
    {
     "name": "stdout",
     "output_type": "stream",
     "text": [
      "Academic license - for non-commercial use only\n"
     ]
    }
   ],
   "source": [
    "N = Nx*Ny  # number of nodes\n",
    "\n",
    "    # NODES: columns are x and y components respectively\n",
    "nodes = [ kron(ones(Ny),collect(1:Nx)) kron(collect(1:Ny),ones(Nx)) ]\n",
    "\n",
    "M = Int(N*(N-1)/2)  # number of edges\n",
    "\n",
    "# EDGES: columns are the indices of the nodes at either end\n",
    "edges = Array{Int}(zeros(M,2))\n",
    "\n",
    "k = 0\n",
    "for i = 1:N\n",
    "    for j = 1:i-1\n",
    "        k = k+1\n",
    "        edges[k,:] = [i j]\n",
    "    end\n",
    "end\n",
    "\n",
    "ℓ = zeros(M)\n",
    "nx = zeros(N,M)\n",
    "ny = zeros(N,M)\n",
    "for j = 1:M\n",
    "    i1 = edges[j,1]\n",
    "    i2 = edges[j,2]\n",
    "    ℓ[j] = norm( [nodes[i1,1]-nodes[i2,1], nodes[i1,2]-nodes[i2,2]] )\n",
    "    nx[i1,j] = (nodes[i1,1]-nodes[i2,1])/ℓ[j]\n",
    "    nx[i2,j] = (nodes[i2,1]-nodes[i1,1])/ℓ[j]\n",
    "    ny[i1,j] = (nodes[i1,2]-nodes[i2,2])/ℓ[j]\n",
    "    ny[i2,j] = (nodes[i2,2]-nodes[i1,2])/ℓ[j]\n",
    "end\n",
    "\n",
    "fx = zeros(N)\n",
    "fy = zeros(N)\n",
    "for L in loaded\n",
    "    ind = L[1]\n",
    "    fx[ind] = L[2]\n",
    "    fy[ind] = L[3]\n",
    "end\n",
    "\n",
    "using JuMP, Gurobi\n",
    "m = Model(solver=GurobiSolver(OutputFlag=0))\n",
    "\n",
    "@variable(m, x[1:M] >= 0)   # area of edge from i to j\n",
    "@variable(m, u[1:M] )       # force in edge from i to j\n",
    "\n",
    "for i = 1:N\n",
    "    if i in fixed\n",
    "        continue\n",
    "    else\n",
    "        @constraint(m, sum(u[j]*nx[i,j] for j=1:M) + fx[i] == 0 )\n",
    "        @constraint(m, sum(u[j]*ny[i,j] for j=1:M) + fy[i] == 0 )\n",
    "    end\n",
    "end\n",
    "\n",
    "@constraint(m, -x .<= u)\n",
    "@constraint(m,  u .<= x)\n",
    "\n",
    "@objective(m, Min, sum(ℓ[j]*x[j] for j=1:M))\n",
    "\n",
    "solve(m)\n",
    "xopt = getvalue(x);\n",
    "uopt = getvalue(u);\n",
    "\n",
    "using PyPlot\n",
    "\n",
    "figure(figsize=((Nx+1)/2,(Ny+1)/2))\n",
    "\n",
    "plot( nodes[:,1], nodes[:,2], \"b.\" )\n",
    "for j = 1:M\n",
    "    if xopt[j] > 0\n",
    "        i1 = edges[j,1]\n",
    "        i2 = edges[j,2]\n",
    "        plot( nodes[[i1,i2],1], nodes[[i1,i2],2], \"r-\", linewidth=sqrt(xopt[j]) )\n",
    "    end\n",
    "end\n",
    "axis(\"equal\")\n",
    "axis([0,Nx+1,0,Ny+1])\n",
    ";"
   ]
  },
  {
   "cell_type": "code",
   "execution_count": null,
   "metadata": {
    "collapsed": true
   },
   "outputs": [],
   "source": []
  }
 ],
 "metadata": {
  "kernelspec": {
   "display_name": "Julia 0.6.2",
   "language": "julia",
   "name": "julia-0.6"
  },
  "language_info": {
   "file_extension": ".jl",
   "mimetype": "application/julia",
   "name": "julia",
   "version": "0.6.2"
  }
 },
 "nbformat": 4,
 "nbformat_minor": 2
}
