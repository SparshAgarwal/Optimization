{
 "cells": [
  {
   "cell_type": "code",
   "execution_count": 5,
   "metadata": {},
   "outputs": [
    {
     "data": {
      "image/png": "[encoded data removed]",
      "text/plain": [
       "PyPlot.Figure(PyObject <matplotlib.figure.Figure object at 0x127314110>)"
      ]
     },
     "metadata": {},
     "output_type": "display_data"
    },
    {
     "name": "stdout",
     "output_type": "stream",
     "text": [
      "\n",
      "******************************************************************************\n",
      "This program contains Ipopt, a library for large-scale nonlinear optimization.\n",
      " Ipopt is released as open source code under the Eclipse Public License (EPL).\n",
      "         For more information visit http://projects.coin-or.org/Ipopt\n",
      "******************************************************************************\n",
      "\n"
     ]
    },
    {
     "name": "stderr",
     "output_type": "stream",
     "text": [
      "\u001b[1m\u001b[33mWARNING: \u001b[39m\u001b[22m\u001b[33mIpopt finished with status Invalid_Number_Detected\u001b[39m\n",
      "\u001b[1m\u001b[33mWARNING: \u001b[39m\u001b[22m\u001b[33mNot solved to optimality, status: Error\u001b[39m\n"
     ]
    }
   ],
   "source": [
    "using Gurobi, Cbc, Mosek, PyPlot, JuMP, Ipopt\n",
    "\n",
    "## Tyre specs\n",
    "coflo = 0.5\n",
    "5 #coeffecient of friction longitudnal(in direction of motion)\n",
    "cofla = 0.7 #coeffecient of friction lattitudnal(perpendicular to direction of motion of the front tyers when they turn)\n",
    "\n",
    "## car specs\n",
    "mass = 1000 # in kg\n",
    "g = 12  #km/hr^2\n",
    "maxacc = 20 # max acc in km/hr^2\n",
    "maxv = 200 # max velocity in km/hr\n",
    "maxTu = 1.27 #max steer one side\n",
    "\n",
    "k = 100 # number of waypoints\n",
    "\n",
    "m = Model(solver = IpoptSolver(print_level=0))\n",
    "\n",
    "## Basic variables and their constraints\n",
    "@variable(m, P[1:2,1:k])  # resulting position in x,y\n",
    "@variable(m, 0 <= v[1:2,1:k] <= maxv)  # vector resulting velocity\n",
    "@variable(m, 0 <= Thrust[1:k] <= maxacc)  # thruster input\n",
    "@variable(m, 0 <= Braking[1:k] <= maxacc)  # braking input\n",
    "@variable(m, Acc[1:2,1:k]) #Acc[1] is in direction of motion not in x direction, Acc[2] is in direction perpendicular to direction of motion                                   \n",
    "@constraint(m, Acc[2,1:k] .>= -cofla*g)\n",
    "@constraint(m, Acc[2,1:k] .<= cofla*g)\n",
    "\n",
    "## Track boundaries variables and constraints\n",
    "# TODO:plot track\n",
    "# @constraint(m, -10 .<= P[1,:] .<= 70)\n",
    "# for t in 1:k\n",
    "#     @NLconstraint(m, P[2,t] <= 150 + sqrt(40^2 - P[1,t]^2))\n",
    "# end\n",
    "\n",
    "## Start ad Finish constraints\n",
    "startPos = [0,0]\n",
    "finishPos = [0,150]\n",
    "@constraint(m, P[:,1] .== startPos)\n",
    "@constraint(m, P[:,k] .== finishPos)\n",
    "@NLexpression(m, finishDistance, sqrt(sum((P[i,k]-finishPos[i])^2 for i in 1:2)))\n",
    "@constraint(m, v[:,1] .== [0,1])\n",
    "@constraint(m, v[:,k] .== [0,0])\n",
    "\n",
    "## motion constraints\n",
    "for t in 1:k-1\n",
    "    @NLconstraint(m, v[1,t+1] == v[1,t] + Acc[1,t] * v[1,t]/sqrt(v[1,t]^2+v[2,t]^2))  #     @constraint(m, v[1,t+1] == v[1,t] + Acc[1,t] * cos(atan(v[2,t]/v[1,t])))\n",
    "    @NLconstraint(m, v[2,t+1] == v[2,t] + Acc[1,t] * v[2,t]/sqrt(v[1,t]^2+v[2,t]^2))   #     @constraint(m, v[2,t+1] == v[2,t] + Acc[1,t] * sin(atan(v[2,t]/v[1,t])))\n",
    "#     @constraint(m, v[1,t+1] == v[1,t] + Acc[2,t] * cos(atan(v[2,t]/v[1,t])+(3.14/2)))  # turning\n",
    "#     @constraint(m, v[2,t+1] == v[2,t] + Acc[2,t] * sin(atan(v[2,t]/v[1,t])+(3.14/2)))  # turning\n",
    "    @NLconstraint(m, P[1,t+1] == P[1,t] + v[1,t] + (.5)*Acc[1,t]*v[1,t]/sqrt(v[1,t]^2+v[2,t]^2))  #     @constraint(m, P[1,t+1] == P[1,t] + v[1,t] + (.5)*cos(atan(v[2,t]/v[1,t])))\n",
    "    @NLconstraint(m, P[2,t+1] == P[2,t] + v[2,t] + (.5)*Acc[1,t]*v[2,t]/sqrt(v[1,t]^2+v[2,t]^2))  #     @constraint(m, P[2,t+1] == P[2,t] + v[2,t] + (.5)*sin(atan(v[2,t]/v[1,t])))\n",
    "    @constraint(m, Acc[1,t+1] == Acc[1,t] + Thrust[t] - Braking[t] - (coflo*g))\n",
    "end\n",
    "@NLobjective(m, Min, finishDistance)\n",
    "# @objective(m, Min, sum(Thrust))\n",
    "solve(m)\n",
    "rad = linspace(0,π,100) \n",
    "\n",
    "x = 30 + 40*cos.(rad)\n",
    "y = 150 +40*sin.(rad)\n",
    "x1 = 30 + 20*cos.(rad)\n",
    "y1 = 150 +20*sin.(rad)\n",
    "\n",
    "\n",
    "Llinex = [-10, -10]\n",
    "Lliney = [0, 150]\n",
    "LMlinex = [10,10]\n",
    "LMliney = [0,150]\n",
    "RMlinex = [50, 50]\n",
    "RMliney = [0,150]\n",
    "Rlinex = [70,70]\n",
    "Rliney = [0,150]\n",
    "\n",
    "figure(figsize=(4,4))\n",
    "\n",
    "plot(Llinex[:],Lliney[:], color = \"#000000\", markersize=4 )\n",
    "plot(LMlinex[:],LMliney[:],color = \"#000000\", markersize=4 )\n",
    "plot(RMlinex[:],RMliney[:], color = \"#000000\", markersize=4 )\n",
    "plot(Rlinex[:],Rliney[:], color = \"#000000\", markersize=4 )\n",
    "plot(x,y, color = \"#000000\", markersize=4 )\n",
    "plot(x1,y1, color = \"#000000\", markersize=4 )\n",
    "\n",
    "plot( getvalue(P[1,:]), getvalue(P[2,:]), \"b.-\", markersize=4 )\n",
    "axis([-11,71,0,191]);\n",
    "# figure(figsize=(12,4))\n",
    "# plot( getvalue(v[1,:]), \"b-\", markersize=12 )\n",
    "# figure(figsize=(12,4))\n",
    "# plot( getvalue(v[2,:]), \"b-\", markersize=12 )\n",
    "# figure(figsize=(12,4))\n",
    "# plot( getvalue(Acc[1,:]), \"b-\", markersize=12 )\n",
    "# # figure(figsize=(12,4))\n",
    "# # plot( getvalue(Acc[2,:]), \"b-\", markersize=12 )\n",
    "# figure(figsize=(12,4))\n",
    "# plot( getvalue(Thrust), \"b-\", markersize=12 )\n",
    "# figure(figsize=(12,4))\n",
    "# plot( getvalue(Braking), \"b-\", markersize=12 )"
   ]
  },
  {
   "cell_type": "code",
   "execution_count": null,
   "metadata": {
    "collapsed": true
   },
   "outputs": [],
   "source": []
  }
 ],
 "metadata": {
  "kernelspec": {
   "display_name": "Julia 0.6.2",
   "language": "julia",
   "name": "julia-0.6"
  },
  "language_info": {
   "file_extension": ".jl",
   "mimetype": "application/julia",
   "name": "julia",
   "version": "0.6.2"
  }
 },
 "nbformat": 4,
 "nbformat_minor": 2
}
