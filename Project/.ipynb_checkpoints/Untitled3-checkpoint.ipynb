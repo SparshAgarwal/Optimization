{
 "cells": [
  {
   "cell_type": "code",
   "execution_count": 4,
   "metadata": {},
   "outputs": [
    {
     "name": "stdout",
     "output_type": "stream",
     "text": [
      "Academic license - for non-commercial use only\n"
     ]
    },
    {
     "data": {
      "text/plain": [
       ":Optimal"
      ]
     },
     "execution_count": 4,
     "metadata": {},
     "output_type": "execute_result"
    }
   ],
   "source": [
    "using Gurobi,JuMP\n",
    "\n",
    "raw = readcsv(\"voltages.csv\");\n",
    "trackx = length(raw[:,1])\n",
    "tracky = length(raw[1,:])\n",
    "\n",
    "m = Model(solver=GurobiSolver(OutputFlag=0))\n",
    "\n",
    "@variable(m, rawv[1:trackx,1:tracky])\n",
    "for i in 1:trackx\n",
    "    for j in 1:tracky\n",
    "        @constraint(m, rawv[i,j] >= raw[i,j])\n",
    "        @constraint(m, rawv[i,j] <= raw[i,j])\n",
    "    end\n",
    "end\n",
    "@expression(m, zz, sum((rawv[1,i]-raw[1,i])^2 for i in 1:tracky))\n",
    "\n",
    "\n",
    "@objective(m, Min, zz)\n",
    "\n",
    "solve(m)"
   ]
  },
  {
   "cell_type": "code",
   "execution_count": null,
   "metadata": {
    "collapsed": true
   },
   "outputs": [],
   "source": []
  }
 ],
 "metadata": {
  "kernelspec": {
   "display_name": "Julia 0.6.2",
   "language": "julia",
   "name": "julia-0.6"
  },
  "language_info": {
   "file_extension": ".jl",
   "mimetype": "application/julia",
   "name": "julia",
   "version": "0.6.2"
  }
 },
 "nbformat": 4,
 "nbformat_minor": 2
}
