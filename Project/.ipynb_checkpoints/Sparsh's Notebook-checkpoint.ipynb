{
 "cells": [
  {
   "cell_type": "code",
   "execution_count": null,
   "metadata": {
    "collapsed": true
   },
   "outputs": [],
   "source": [
    "using Gurobi, Cbc, Mosek, PyPlot, JuMP, Ipopt\n",
    "\n",
    "## Tyre specs\n",
    "coflo = 0.2 #coeffecient of friction longitudnal(in direction of motion)\n",
    "cofla = 0.4 #coeffecient of friction lattitudnal(perpendicular to direction of motion of the front tyers when they turn)\n",
    "\n",
    "## car specs all specs in meters and seconds\n",
    "# mass = 1000 # in kg\n",
    "g = 9.8  # gravitational pull in m/sec^2\n",
    "maxacc = 6.5 # max acc in m/sec^2\n",
    "maxv = 55.55 # max velocity in m/sec equivalent to 200km/hr\n",
    "maxTu = 1.27 #max steer one side\n",
    "\n",
    "# k =10000 # number of waypoints\n",
    "k =10\n",
    "\n",
    "m = Model(solver = IpoptSolver(print_level=0))\n",
    "\n",
    "## Basic variables and their constraints\n",
    "@variable(m, P[1:2,1:k])  # resulting position in x,y\n",
    "@variable(m, 0 <= v[1:2,1:k] <= maxv)  # vector resulting velocity\n",
    "@variable(m, 0 <= Thrust[1:k] <= maxacc)  # thruster input\n",
    "@variable(m, 0 <= Braking[1:k] <= maxacc)  # braking input\n",
    "@variable(m, Acc[1:2,1:k]) #Acc[1] is in direction of motion not in x direction, Acc[2] is in direction perpendicular to direction of motion                                   \n",
    "@constraint(m, Acc[2,1:k] .>= -cofla*g)\n",
    "@constraint(m, Acc[2,1:k] .<= cofla*g)\n",
    "\n",
    "## Track boundaries variables and constraints (Plot dimensions are in kilometers, -10km to 70 km) \n",
    "# TODO:plot track\n",
    "# @constraint(m, -10000 .<= P[1,:] .<= 70000)\n",
    "# for t in 1:k\n",
    "#     @NLconstraint(m, P[2,t] <= 150000 + sqrt(40000^2 - P[1,t]^2))\n",
    "# end\n",
    "@constraint(m, -10 .<= P[1,:] .<= 70)\n",
    "for t in 1:k\n",
    "    @NLconstraint(m, P[2,t] <= 150 + sqrt(40^2 - P[1,t]^2))\n",
    "end\n",
    "\n",
    "## Start ad Finish constraints\n",
    "startPos = [0,0]\n",
    "# finishPos = [15000,200000]\n",
    "finishPos = [15,200]\n",
    "startVel = [0,0]\n",
    "finishVel = [0,0]\n",
    "@constraint(m, P[:,1] .== startPos)\n",
    "@constraint(m, P[:,k] .== finishPos)\n",
    "@constraint(m, v[:,1] .== startVel)\n",
    "@constraint(m, v[:,k] .== finishVel)\n",
    "@NLexpression(m, finishDistance, sqrt(sum((P[i,k]-finishPos[i])^2 for i in 1:2)))\n",
    "\n",
    "## motion constraints\n",
    "for t in 1:k-1\n",
    "#     @NLconstraint(m, v[1,t+1] == v[1,t] + Acc[1,t]*v[1,t]/sqrt((v[1,t]^2)+(v[2,t]^2)))  #     @constraint(m, v[1,t+1] == v[1,t] + Acc[1,t] * cos(atan(v[2,t]/v[1,t])))\n",
    "#     @NLconstraint(m, v[2,t+1] == v[2,t] + Acc[1,t]*v[2,t]/sqrt((v[1,t]^2)+(v[2,t]^2)))   #     @constraint(m, v[2,t+1] == v[2,t] + Acc[1,t] * sin(atan(v[2,t]/v[1,t])))\n",
    "    @NLconstraint(m, v[1,t+1] == v[1,t] + Acc[1,t]*v[1,t]/sqrt((v[1,t]^2)+(v[2,t]^2)) + Acc[2,t]*v[2,t]/sqrt((v[1,t]^2)+(v[2,t]^2)))  # turning\n",
    "    @NLconstraint(m, v[2,t+1] == v[2,t] + Acc[1,t]*v[2,t]/sqrt((v[1,t]^2)+(v[2,t]^2)) + Acc[2,t]*v[1,t]/sqrt((v[1,t]^2)+(v[2,t]^2)))  # turning\n",
    "    @NLconstraint(m, P[1,t+1] == P[1,t] + v[1,t] + (.5)*Acc[1,t]*v[1,t]/sqrt((v[1,t]^2)+(v[2,t]^2)))  #     @constraint(m, P[1,t+1] == P[1,t] + v[1,t] + (.5)*cos(atan(v[2,t]/v[1,t])))\n",
    "    @NLconstraint(m, P[2,t+1] == P[2,t] + v[2,t] + (.5)*Acc[1,t]*v[2,t]/sqrt((v[1,t]^2)+(v[2,t]^2)))  #     @constraint(m, P[2,t+1] == P[2,t] + v[2,t] + (.5)*sin(atan(v[2,t]/v[1,t])))\n",
    "    @constraint(m, Acc[1,t+1] == Acc[1,t] + Thrust[t] - Braking[t] - (coflo*g))\n",
    "end\n",
    "\n",
    "@NLobjective(m, Min, finishDistance)\n",
    "# @objective(m, Min, sum(Thrust))\n",
    "solve(m)\n",
    "\n",
    "figure(figsize=(8,19))\n",
    "title(\"Position\")\n",
    "plot( getvalue(P[1,:]), getvalue(P[2,:]), \"b.-\", markersize=4 )\n",
    "# axis((-20000,80000,-10000,200000));\n",
    "axis((-20,80,-10,200));\n",
    "# axis(\"equal\")\n",
    "figure(figsize=(12,4))\n",
    "title(\"velocity x\")\n",
    "plot( getvalue(v[1,:]), \"b.\", markersize=12 )\n",
    "figure(figsize=(12,4))\n",
    "title(\"velocity y\")\n",
    "plot( getvalue(v[2,:]), \"b-\", markersize=12 )\n",
    "figure(figsize=(12,4))\n",
    "title(\"Acceleration in direction of motion\")\n",
    "plot( getvalue(Acc[1,:]), \"b-\", markersize=12 )\n",
    "figure(figsize=(12,4))\n",
    "title(\"Centripital acceleration\")\n",
    "plot( getvalue(Acc[2,:]), \"b-\", markersize=12 )\n",
    "figure(figsize=(12,4))\n",
    "title(\"Thrust\")\n",
    "plot( getvalue(Thrust), \"b-\", markersize=12 )\n",
    "figure(figsize=(12,4))\n",
    "title(\"Braking\")\n",
    "plot( getvalue(Braking), \"b-\", markersize=12 )"
   ]
  },
  {
   "cell_type": "code",
   "execution_count": null,
   "metadata": {
    "collapsed": true
   },
   "outputs": [],
   "source": []
  },
  {
   "cell_type": "code",
   "execution_count": null,
   "metadata": {
    "collapsed": true
   },
   "outputs": [],
   "source": []
  },
  {
   "cell_type": "code",
   "execution_count": null,
   "metadata": {
    "collapsed": true
   },
   "outputs": [],
   "source": []
  }
 ],
 "metadata": {
  "kernelspec": {
   "display_name": "Julia 0.6.2",
   "language": "julia",
   "name": "julia-0.6"
  },
  "language_info": {
   "file_extension": ".jl",
   "mimetype": "application/julia",
   "name": "julia",
   "version": "0.6.2"
  }
 },
 "nbformat": 4,
 "nbformat_minor": 2
}
