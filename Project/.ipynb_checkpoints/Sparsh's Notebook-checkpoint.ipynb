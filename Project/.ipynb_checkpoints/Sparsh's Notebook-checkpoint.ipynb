{
 "cells": [
  {
   "cell_type": "code",
   "execution_count": null,
   "metadata": {},
   "outputs": [],
   "source": [
    "using Gurobi, Cbc, Mosek, PyPlot, JuMP, Ipopt\n",
    "\n",
    "## Tyre specs\n",
    "coflo = 0.5 #coeffecient of friction longitudnal(in direction of motion)\n",
    "cofla = 0.7 #coeffecient of friction lattitudnal(perpendicular to direction of motion of the front tyers when they turn)\n",
    "\n",
    "## car specs\n",
    "mass = 1000 # in kg\n",
    "g = 12  #km/hr^2\n",
    "maxacc = 20 # max acc in km/hr^2\n",
    "maxv = 2 # max velocity in km/hr\n",
    "maxTu = 1.27 #max steer one side\n",
    "\n",
    "k = 50 # number of waypoints\n",
    "\n",
    "# m = Model(solver = MosekSolver(LOG=0))\n",
    "m = Model(solver = IpoptSolver(print_level=0))\n",
    "\n",
    "## Basic variables and their constraints\n",
    "@variable(m, P[1:2,1:k])  # resulting position in x,y\n",
    "@variable(m, 0 <= v[1:2,1:k] <= maxv)  # vector resulting velocity\n",
    "@variable(m, 0 <= Thrust[1:k] <= maxacc)  # thruster input\n",
    "@variable(m, 0 <= Braking[1:k] <= maxacc)  # braking input\n",
    "@variable(m, Acc[1:2,1:k]) #Acc[1] is in direction of motion not in x direction, Acc[2] is in direction perpendicular to direction of motion                                   \n",
    "@constraint(m, Acc[2,1:k] .>= -cofla*g)\n",
    "@constraint(m, Acc[2,1:k] .<= cofla*g)\n",
    "\n",
    "## Track boundaries variables and constraints\n",
    "# TODO:plot track\n",
    "@constraint(m, -10 .<= P[1,:] .<= 70)\n",
    "for t in 1:k\n",
    "    @NLconstraint(m, P[2,t] <= 150 + sqrt(40^2 - P[1,t]^2))\n",
    "end\n",
    "\n",
    "## Start ad Finish constraints\n",
    "startPos = [0,0]\n",
    "finishPos = [0,150]\n",
    "@constraint(m, P[:,1] .== startPos)\n",
    "# @constraint(m, P[:,k] .== [0,100])\n",
    "@NLexpression(m, finishDistance, sqrt(sum((P[i,k]-finishPos[i])^2 for i in 1:2)))\n",
    "@constraint(m, v[:,1] .== [0,0])\n",
    "@constraint(m, v[:,k] .== [0,0])\n",
    "\n",
    "## motion constraints\n",
    "for t in 1:k-1\n",
    "    @NLconstraint(m, v[1,t+1] == v[1,t] + Acc[1,t] * v[1,t]/sqrt(v[1,t]^2+v[2,t]^2))  #     @constraint(m, v[1,t+1] == v[1,t] + Acc[1,t] * cos(atan(v[2,t]/v[1,t])))\n",
    "    @NLconstraint(m, v[2,t+1] == v[2,t] + Acc[1,t] * v[2,t]/sqrt(v[1,t]^2+v[2,t]^2))   #     @constraint(m, v[2,t+1] == v[2,t] + Acc[1,t] * sin(atan(v[2,t]/v[1,t])))\n",
    "#     @constraint(m, v[1,t+1] == v[1,t] + Acc[2,t] * cos(atan(v[2,t]/v[1,t])+(3.14/2)))  # turning\n",
    "#     @constraint(m, v[2,t+1] == v[2,t] + Acc[2,t] * sin(atan(v[2,t]/v[1,t])+(3.14/2)))  # turning\n",
    "    @NLconstraint(m, P[1,t+1] == P[1,t] + v[1,t] + (.5)*v[1,t]/sqrt(v[1,t]^2+v[2,t]^2))  #     @constraint(m, P[1,t+1] == P[1,t] + v[1,t] + (.5)*cos(atan(v[2,t]/v[1,t])))\n",
    "    @NLconstraint(m, P[2,t+1] == P[2,t] + v[2,t] + (.5)*v[2,t]/sqrt(v[1,t]^2+v[2,t]^2))  #     @constraint(m, P[2,t+1] == P[2,t] + v[2,t] + (.5)*sin(atan(v[2,t]/v[1,t])))\n",
    "    @constraint(m, Acc[1,t+1] == Acc[1,t] + Thrust[t] - Braking[t] - (coflo*g))\n",
    "end\n",
    "\n",
    "@NLobjective(m, Min, finishDistance)\n",
    "solve(m)\n",
    "\n",
    "figure(figsize=(12,4))\n",
    "plot( getvalue(P[1,:]), getvalue(P[2,:]), \"b.-\", markersize=4 )\n",
    "# axis(\"equal\")\n",
    "figure(figsize=(12,4))\n",
    "plot( getvalue(v[1,:]), \"b-\", markersize=12 )\n",
    "figure(figsize=(12,4))\n",
    "plot( getvalue(v[2,:]), \"b-\", markersize=12 )\n",
    "figure(figsize=(12,4))\n",
    "plot( getvalue(Acc[1,:]), \"b-\", markersize=12 )\n",
    "figure(figsize=(12,4))\n",
    "plot( getvalue(Acc[2,:]), \"b-\", markersize=12 )\n",
    "figure(figsize=(12,4))\n",
    "plot( getvalue(Thrust), \"b-\", markersize=12 )\n",
    "figure(figsize=(12,4))\n",
    "plot( getvalue(Braking), \"b-\", markersize=12 )"
   ]
  },
  {
   "cell_type": "code",
   "execution_count": null,
   "metadata": {},
   "outputs": [],
   "source": []
  },
  {
   "cell_type": "code",
   "execution_count": null,
   "metadata": {
    "collapsed": true
   },
   "outputs": [],
   "source": []
  },
  {
   "cell_type": "code",
   "execution_count": null,
   "metadata": {
    "collapsed": true
   },
   "outputs": [],
   "source": []
  }
 ],
 "metadata": {
  "kernelspec": {
   "display_name": "Julia 0.6.2",
   "language": "julia",
   "name": "julia-0.6"
  },
  "language_info": {
   "file_extension": ".jl",
   "mimetype": "application/julia",
   "name": "julia",
   "version": "0.6.2"
  }
 },
 "nbformat": 4,
 "nbformat_minor": 2
}
