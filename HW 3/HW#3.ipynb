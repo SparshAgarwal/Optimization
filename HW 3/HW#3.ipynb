{
 "cells": [
  {
   "cell_type": "markdown",
   "metadata": {},
   "source": [
    "# CS 524\n",
    "HW3 Sparsh Agarwal 9075905142"
   ]
  },
  {
   "cell_type": "markdown",
   "metadata": {},
   "source": [
    "Q1. Yes, a schedule where all 15 senior employees are able to meet the candidate is possible."
   ]
  },
  {
   "cell_type": "code",
   "execution_count": 193,
   "metadata": {},
   "outputs": [
    {
     "data": {
      "text/plain": [
       "15×13 Named Array{Int64,2}\n",
       "NAME ╲ TIME │ 10:00  10:20  10:40  11:00  …   1:40   2:00   2:20   2:40\n",
       "────────────┼──────────────────────────────────────────────────────────\n",
       ":Manuel     │     0      0      1      1  …      0      0      0      0\n",
       ":Luca       │     0      1      1      0         1      0      0      0\n",
       ":Jule       │     0      0      0      1         1      1      1      1\n",
       ":Michael    │     0      0      0      1         1      1      1      0\n",
       ":Malte      │     0      0      0      0         0      0      0      0\n",
       ":Chris      │     0      1      1      0         1      0      0      0\n",
       ":Spyros     │     0      0      0      1         0      0      0      0\n",
       ":Mirjam     │     1      1      0      0         0      1      1      1\n",
       ":Matt       │     1      1      1      0         1      1      0      0\n",
       ":Florian    │     0      0      0      0         0      0      0      0\n",
       ":Josep      │     0      0      0      0         0      0      0      0\n",
       ":Joel       │     1      1      0      0         0      0      1      1\n",
       ":Tom        │     1      1      1      0         0      0      1      1\n",
       ":Daniel     │     0      1      1      1         0      0      0      0\n",
       ":Anne       │     1      1      0      0  …      0      0      0      0"
      ]
     },
     "execution_count": 193,
     "metadata": {},
     "output_type": "execute_result"
    }
   ],
   "source": [
    "using JuMP, NamedArrays\n",
    "\n",
    "availability =\n",
    "  [ 0 0 1 1 0 0 0 1 1 0 0 0 0\n",
    "    0 1 1 0 0 0 0 0 1 1 0 0 0\n",
    "    0 0 0 1 1 0 1 1 0 1 1 1 1\n",
    "    0 0 0 1 1 1 1 1 1 1 1 1 0\n",
    "    0 0 0 0 0 0 1 1 1 0 0 0 0\n",
    "    0 1 1 0 0 0 0 0 1 1 0 0 0\n",
    "    0 0 0 1 1 1 1 0 0 0 0 0 0\n",
    "    1 1 0 0 0 0 0 0 0 0 1 1 1\n",
    "    1 1 1 0 0 0 0 0 0 1 1 0 0\n",
    "    0 0 0 0 0 0 0 1 1 0 0 0 0\n",
    "    0 0 0 0 0 0 1 1 1 0 0 0 0\n",
    "    1 1 0 0 0 1 1 1 1 0 0 1 1\n",
    "    1 1 1 0 1 1 0 0 0 0 0 1 1\n",
    "    0 1 1 1 0 0 0 0 0 0 0 0 0\n",
    "    1 1 0 0 1 1 0 0 0 0 0 0 0 ]\n",
    "\n",
    "TIMES = [\"10:00\",\"10:20\",\"10:40\",\"11:00\",\"11:20\",\"11:40\",\"lunch\",\"1:00\",\"1:20\",\"1:40\",\"2:00\",\"2:20\",\"2:40\"]\n",
    "NAMES = [:Manuel,:Luca,:Jule,:Michael,:Malte,:Chris,:Spyros,:Mirjam,:Matt,:Florian,:Josep,:Joel,:Tom,:Daniel,:Anne ]\n",
    "times = NamedArray( availability, (NAMES,TIMES), (\"NAME\",\"TIME\"))"
   ]
  },
  {
   "cell_type": "code",
   "execution_count": 194,
   "metadata": {},
   "outputs": [
    {
     "name": "stdout",
     "output_type": "stream",
     "text": [
      "15.0\n",
      "10:00 : Matt\n",
      "10:20 : Anne\n",
      "10:40 : Daniel\n",
      "11:00 : Manuel\n",
      "11:20 : Jule\n",
      "11:40 : Tom\n",
      "lunch : Malte , Spyros , Josep , \n",
      "1:00 : Florian\n",
      "1:20 : Luca\n",
      "1:40 : Chris\n",
      "2:00 : Mirjam\n",
      "2:20 : Michael\n",
      "2:40 : Joel\n"
     ]
    }
   ],
   "source": [
    "using JuMP, Clp, NamedArrays\n",
    "\n",
    "indices_no_lunch = [1:6;8:13]\n",
    "\n",
    "m = Model(solver=ClpSolver())\n",
    "@variable(m, x[NAMES,TIMES] >= 0)\n",
    "\n",
    "@constraint(m, constrA[j in TIMES[indices_no_lunch]], sum(x[i,j] * times[i,j] for i in NAMES) == 1 )\n",
    "@constraint(m, sum(x[i,\"lunch\"] * times[i,\"lunch\"] for i in NAMES) == 3 )\n",
    "@constraint(m, constrB[i in NAMES], sum(x[i,j] * times[i,j] for j in TIMES) >= 1 )\n",
    "for i in NAMES\n",
    "    for j in TIMES\n",
    "         @constraint(m, x[i,j] <= times[i,j])\n",
    "    end\n",
    "end\n",
    "\n",
    "@expression(m, num_int_per[i in NAMES], sum(x[i,j] for j in TIMES))\n",
    "@expression(m, tot_int, sum(num_int_per[i] for i in NAMES))\n",
    "\n",
    "@objective(m, Max, tot_int)  \n",
    "\n",
    "status = solve(m)\n",
    "\n",
    "println(getobjectivevalue(m))\n",
    "# println(getvalue(x))\n",
    "\n",
    "# for j in TIMES\n",
    "#     for i in NAMES\n",
    "#         println(getvalue(x[i,j]))\n",
    "#     end\n",
    "# end\n",
    "\n",
    "# for i in NAMES\n",
    "#     println(i)\n",
    "# end\n",
    "\n",
    "for j in TIMES\n",
    "    print(j,\" : \")\n",
    "    if j == \"lunch\"\n",
    "        for i in NAMES\n",
    "            if getvalue(x[i,j]) == 1.0\n",
    "                print(i ,\" , \")\n",
    "            end\n",
    "        end\n",
    "    else\n",
    "        for i in NAMES\n",
    "            if getvalue(x[i,j]) == 1.0\n",
    "                print(i)\n",
    "            end\n",
    "        end\n",
    "    end\n",
    "    println(\"\") \n",
    "end\n",
    "\n",
    "# println(num_int_per[:Manuel])\n",
    "# println(getvalue(x))        "
   ]
  },
  {
   "cell_type": "markdown",
   "metadata": {},
   "source": [
    "Q2. S site is the supplying destination and D Site is the destination site."
   ]
  },
  {
   "cell_type": "code",
   "execution_count": 192,
   "metadata": {},
   "outputs": [
    {
     "name": "stdout",
     "output_type": "stream",
     "text": [
      "Optimal\n",
      "10×10 Named Array{Int64,2}\n",
      "S Sites ╲ D Sites │  1   2   3   4   5   6   7   8   9  10\n",
      "──────────────────┼───────────────────────────────────────\n",
      "1                 │  0   0   0   0   0   0   0   0   0   0\n",
      "2                 │  0   0   1   0   0   5   1   0   0   0\n",
      "3                 │  0   0   0   0   0   0   0   0   0   0\n",
      "4                 │  0   0   0   0   0   0   0   0   0   0\n",
      "5                 │  0   0   0   3   0   0   0   0   0   0\n",
      "6                 │  0   0   0   0   0   0   0   0   0   0\n",
      "7                 │  0   0   0   0   0   0   0   0   0   0\n",
      "8                 │  0   0   0   0   0   0   0   0   0   4\n",
      "9                 │  2   0   3   0   0   0   0   0   0   1\n",
      "10                │  0   0   0   0   0   0   0   0   0   0\n",
      "\n",
      "Total cost will be $152.63901632295628\n"
     ]
    }
   ],
   "source": [
    "using JuMP, Clp, NamedArrays\n",
    "\n",
    "coordinateX = [0 20 18 30 35 33 5 5 11 2]\n",
    "coordinateY = [0 20 10 12 0 25 27 10 0 15]\n",
    "\n",
    "sites = [ 1, 2, 3, 4, 5, 6, 7, 8, 9, 10]\n",
    "\n",
    "cost_per_mile = 0.50\n",
    "\n",
    "supply = Dict(zip( sites, [0 7 0 0 3 0 0 4 6 0] ))\n",
    "demand = Dict(zip( sites, [2 0 4 3 0 5 1 0 0 5] ))\n",
    "\n",
    "distance = Array{Float64}(10,10)\n",
    "\n",
    "for i in sites\n",
    "    for j in sites\n",
    "         distance[i,j]= 1.3*sqrt((coordinateX[i]-coordinateX[j])^2 + (coordinateY[i]-coordinateY[j])^2)\n",
    "#         println( distance[i,j] )\n",
    "    end\n",
    "end\n",
    "\n",
    "m = Model(solver=ClpSolver())\n",
    "\n",
    "@variable(m, x[sites,sites] >= 0)       \n",
    "\n",
    "@constraint(m, sup[i in sites], sum(x[i,j] for j in sites) == supply[i] )   # supply constraint\n",
    "@constraint(m, dem[j in sites], sum(x[i,j] for i in sites) == demand[j] )   # demand constraint\n",
    "\n",
    "@objective(m, Min, cost_per_mile*sum( x[i,j]*distance[i,j] for i in sites, j in sites ) ) # minimize transportation cost\n",
    "\n",
    "status = solve(m)\n",
    "\n",
    "println(status)\n",
    "\n",
    "solution = NamedArray( Int[getvalue(x[i,j]) for i in sites, j in sites], (sites,sites), (\"S Sites\",\"D Sites\") )\n",
    "println( solution )\n",
    "println()\n",
    "println(\"Total cost will be \\$\", getobjectivevalue(m))\n"
   ]
  },
  {
   "cell_type": "markdown",
   "metadata": {},
   "source": [
    "Q3 # Data for stadium building problem"
   ]
  },
  {
   "cell_type": "code",
   "execution_count": 189,
   "metadata": {},
   "outputs": [],
   "source": [
    "using JuMP\n",
    "\n",
    "tasks = 1:18\n",
    "durations = [2 16 9 8 10 6 2 2 9 5 3 2 1 7 4 3 9 1]\n",
    "dur_dict = Dict(zip(tasks,durations));\n",
    "predecessors = ( [], [1], [2], [2], [3], [4,5], [4], [6], [4,6], [4], [6], [9], [7], [2], [4,14], [8,11,14], [12], [17] )\n",
    "pred_dict = Dict(zip(tasks,predecessors));   # dictionary mapping tasks --> predecessors.\n",
    "\n",
    "# additional columns of data (maximum reduction possible )\n",
    "max_reduction =  [0,  3,  1,  2,  2,  1, 1, 0,  2,  1,  1, 0, 0,  2,  2, 1,  3, 0]  # max reduction (in weeks)\n",
    "cost_reduction = [0, 30, 26, 12, 17, 15, 8, 0, 42, 21, 18, 0, 0, 22, 12, 6, 16, 0]  # cost of reduction ($1,000/week)\n",
    "bonus_amount = 30     # bonus for expediting the project ($1,000/week )\n",
    ";"
   ]
  },
  {
   "cell_type": "code",
   "execution_count": 190,
   "metadata": {},
   "outputs": [
    {
     "name": "stdout",
     "output_type": "stream",
     "text": [
      "tstart: 1 dimensions:\n",
      "[ 1] = 0.0\n",
      "[ 2] = 2.0\n",
      "[ 3] = 18.0\n",
      "[ 4] = 18.0\n",
      "[ 5] = 27.0\n",
      "[ 6] = 37.0\n",
      "[ 7] = 26.0\n",
      "[ 8] = 43.0\n",
      "[ 9] = 43.0\n",
      "[10] = 26.0\n",
      "[11] = 43.0\n",
      "[12] = 52.0\n",
      "[13] = 28.0\n",
      "[14] = 18.0\n",
      "[15] = 26.0\n",
      "[16] = 46.0\n",
      "[17] = 54.0\n",
      "[18] = 63.0\n",
      "minimum duration in weeks: 64.0\n"
     ]
    }
   ],
   "source": [
    "using JuMP,Clp\n",
    "m = Model(solver=ClpSolver())\n",
    "\n",
    "@variable(m, tstart[tasks] >= 0)\n",
    "\n",
    "for i in tasks\n",
    "    for j in pred_dict[i]\n",
    "        @constraint(m, tstart[i] >= tstart[j] + dur_dict[j])\n",
    "    end\n",
    "end\n",
    "@constraint(m, tstart[1] == 0)\n",
    "@objective(m, Min, tstart[18] + dur_dict[18])     \n",
    "\n",
    "solve(m)\n",
    "println(getvalue(tstart))\n",
    "println(\"minimum duration in weeks: \", getobjectivevalue(m))"
   ]
  },
  {
   "cell_type": "code",
   "execution_count": 191,
   "metadata": {},
   "outputs": [
    {
     "name": "stdout",
     "output_type": "stream",
     "text": [
      "tstart: 1 dimensions:\n",
      "[ 1] = 0.0\n",
      "[ 2] = 2.0\n",
      "[ 3] = 18.0\n",
      "[ 4] = 18.0\n",
      "[ 5] = 26.0\n",
      "[ 6] = 34.0\n",
      "[ 7] = 26.0\n",
      "[ 8] = 39.0\n",
      "[ 9] = 39.0\n",
      "[10] = 26.0\n",
      "[11] = 39.0\n",
      "[12] = 48.0\n",
      "[13] = 28.0\n",
      "[14] = 18.0\n",
      "[15] = 26.0\n",
      "[16] = 42.0\n",
      "[17] = 50.0\n",
      "[18] = 56.0\n",
      "New Finish Date in weeks: 57.0\n",
      "Extra payment in k: 210.0\n",
      "Total loss in k: 123.0\n",
      "Total Profit in k: 87.0\n"
     ]
    }
   ],
   "source": [
    "using JuMP,Clp\n",
    "m = Model(solver=ClpSolver())\n",
    "\n",
    "@variable(m, tstart[tasks] >= 0)\n",
    "@variable(m, tloss[tasks] >= 0)\n",
    "\n",
    "@expression(m, total_loss, sum(cost_reduction[i]*tloss[i] for i in tasks))\n",
    "@expression(m, finish_date, tstart[18] + dur_dict[18]) #as max reduction in last task is 0\n",
    "@expression(m, extra_payment, (64-finish_date) * bonus_amount)\n",
    "@expression(m, total_profit, ( extra_payment - total_loss))\n",
    "\n",
    "for i in tasks\n",
    "    for j in pred_dict[i]\n",
    "        @constraint(m, tstart[i] >= tstart[j] + dur_dict[j] -  tloss[j])\n",
    "        @constraint(m, tloss[j] <= max_reduction[j])\n",
    "    end\n",
    "end\n",
    "@constraint(m, tstart[1] == 0)\n",
    "@objective(m, Max, total_profit)    \n",
    "\n",
    "solve(m)\n",
    "println(getvalue(tstart))\n",
    "println(\"New Finish Date in weeks: \",getvalue(tstart[18] + dur_dict[18])) #as max reduction in last task is 0\n",
    "println(\"Extra payment in k: \", getvalue(extra_payment))\n",
    "println(\"Total loss in k: \", getvalue(total_loss))\n",
    "println(\"Total Profit in k: \", getobjectivevalue(m))"
   ]
  },
  {
   "cell_type": "markdown",
   "metadata": {},
   "source": [
    "Q4\n",
    "   0.x + 1.y = 0\n",
    "   3x - y = 1500\n",
    "   2.x - 3.y = 300\n",
    "   0.x + 1.y = 500\n",
    "   1.x + 0.y = 0"
   ]
  },
  {
   "cell_type": "code",
   "execution_count": 188,
   "metadata": {},
   "outputs": [
    {
     "data": {
      "image/png": "[encoded data removed]",
      "text/plain": [
       "PyPlot.Figure(PyObject <matplotlib.figure.Figure object at 0x138169d10>)"
      ]
     },
     "metadata": {},
     "output_type": "display_data"
    },
    {
     "name": "stdout",
     "output_type": "stream",
     "text": [
      "Optimal\n",
      "The coordinates of the museum center are: [209.167, 290.833]\n",
      "The largest possible radius is: 159.1673086804016\n"
     ]
    }
   ],
   "source": [
    "using JuMP, Clp\n",
    "using PyPlot\n",
    "\n",
    "A = [0 -1; 3 -1; 2 -3; 0 1; -1 0 ];\n",
    "b = [0; 1500; 300; 500; 0]\n",
    "\n",
    "m = Model(solver=ClpSolver())\n",
    "@variable(m, r >= 0)           # radius\n",
    "@variable(m, x[1:2])           # coordinates of center\n",
    "for i = 1:size(A,1)\n",
    "    @constraint(m, A[i,:]'*x + r*norm(A[i,:]) <= b[i])\n",
    "end\n",
    "@objective(m, Max, r)     # maximize radius\n",
    "\n",
    "status = solve(m)\n",
    "center = getvalue(x)\n",
    "radius = getvalue(r) - 50 \n",
    "\n",
    "#Deduction by 50: because when a circle is found in original polyhedron, \n",
    "#it would touch one of the sides which will be tangential to circle at \n",
    "#point of contact so to find a circle with a distance of 50 feet from each \n",
    "#side, just reduce the radius of circle by 50 as then that point of contact \n",
    "#of circle will be 50 feet away from the original side in a normal direction\n",
    "\n",
    "rad = linspace(0, 2π, 100)\n",
    "x = center[1] + radius*cos.(rad)\n",
    "y = center[2] + radius*sin.(rad)\n",
    "plot(x, y)\n",
    "\n",
    "c = linspace(0,500,1000)\n",
    "c1 = linspace(0,300,100)\n",
    "c2 = linspace(500,600,100)\n",
    "c3 = linspace(300,600,100)\n",
    "\n",
    "w1 = 0*c\n",
    "w2 = 500 + 0*c1\n",
    "w3 = 3*(c2-500)\n",
    "w4 = -(2/3)*(c3-300) + 500\n",
    "\n",
    "plot(w1, c, \"b\", linewidth = 2)\n",
    "hold \n",
    "plot(c, w1, \"b\", linewidth = 2)\n",
    "hold \n",
    "plot(c1, w2, \"b\", linewidth = 2)\n",
    "hold\n",
    "plot(c2, w3, \"b\", linewidth = 2)\n",
    "hold\n",
    "plot(c3, w4, \"b\", linewidth = 2)\n",
    "\n",
    "xlim((-100,600))\n",
    "ylim((-100,600))\n",
    "\n",
    "println(status)\n",
    "println(\"The coordinates of the museum center are: \", center)\n",
    "println(\"The largest possible radius is: \", radius)\n",
    "\n",
    "\n"
   ]
  }
 ],
 "metadata": {
  "kernelspec": {
   "display_name": "Julia 0.6.2",
   "language": "julia",
   "name": "julia-0.6"
  },
  "language_info": {
   "file_extension": ".jl",
   "mimetype": "application/julia",
   "name": "julia",
   "version": "0.6.2"
  }
 },
 "nbformat": 4,
 "nbformat_minor": 2
}
